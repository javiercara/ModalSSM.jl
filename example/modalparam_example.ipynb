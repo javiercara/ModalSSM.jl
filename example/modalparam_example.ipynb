{
 "cells": [
  {
   "cell_type": "markdown",
   "metadata": {},
   "source": [
    "# Testing modalparam\n",
    "\n",
    "\n",
    "Testing *modalparam* and *modalparami* functions using the model defined in modalparam_test"
   ]
  },
  {
   "cell_type": "code",
   "execution_count": 1,
   "metadata": {
    "collapsed": false
   },
   "outputs": [],
   "source": [
    "using ModalSSM"
   ]
  },
  {
   "cell_type": "code",
   "execution_count": 2,
   "metadata": {
    "collapsed": false
   },
   "outputs": [
    {
     "data": {
      "text/plain": [
       "Dict{String,Any} with 11 entries:\n",
       "  \"C\"  => [-350.0 100.0 -0.726575 0.126668; 200.0 -200.0 0.253335 -0.536573]\n",
       "  \"wm\" => [10.7202,20.8585]\n",
       "  \"K\"  => [12250.0 -3500.0; -3500.0 3500.0]\n",
       "  \"B\"  => [5.62083e-6 4.71117e-8; 4.71117e-8 1.13123e-5; 0.000554178 8.89756e-6…\n",
       "  \"G\"  => [25.4301 -4.43337; -4.43337 9.39003]\n",
       "  \"dt\" => 0.02\n",
       "  \"Vm\" => [0.425391 1.0; 1.0 -0.850781]\n",
       "  \"A\"  => [0.93131 0.019508 0.0193962 0.000155707; 0.039016 0.960572 0.00031141…\n",
       "  \"zm\" => [0.02,0.02]\n",
       "  \"M\"  => [35.0 0.0; 0.0 17.5]\n",
       "  \"mm\" => [23.8335,47.667]"
      ]
     },
     "execution_count": 2,
     "metadata": {},
     "output_type": "execute_result"
    }
   ],
   "source": [
    "# getting the model\n",
    "ssm = modalparam_test()"
   ]
  },
  {
   "cell_type": "code",
   "execution_count": 3,
   "metadata": {
    "collapsed": false
   },
   "outputs": [
    {
     "name": "stdout",
     "output_type": "stream",
     "text": [
      "w1 = [10.7202,20.8585]\n",
      "z1 = [0.02,0.02]\n",
      "z1 = [0.425391 1.0; 1.0 -0.850781]\n"
     ]
    }
   ],
   "source": [
    "# testing modalparam\n",
    "w1,z1,v1 = modalparam(ssm[\"A\"],ssm[\"C\"],ssm[\"dt\"])\n",
    "println(\"w1 = \", w1)\n",
    "println(\"z1 = \", z1)\n",
    "println(\"z1 = \", v1)"
   ]
  },
  {
   "cell_type": "code",
   "execution_count": 4,
   "metadata": {
    "collapsed": false
   },
   "outputs": [
    {
     "name": "stdout",
     "output_type": "stream",
     "text": [
      "w2 = [10.7202,20.8585]\n",
      "z2 = [0.02,0.02]\n",
      "z2 = [0.425391 1.0; 1.0 -0.850781]\n",
      "m2 = [23.8335,47.667]\n"
     ]
    }
   ],
   "source": [
    "# testing modalarami\n",
    "dofu = [1,2]\n",
    "w2,z2,v2,m2 = modalparami(ssm[\"A\"],ssm[\"B\"],ssm[\"C\"],ssm[\"dt\"],dofu)\n",
    "println(\"w2 = \", w2)\n",
    "println(\"z2 = \", z2)\n",
    "println(\"z2 = \", v2)\n",
    "println(\"m2 = \", m2)"
   ]
  },
  {
   "cell_type": "code",
   "execution_count": null,
   "metadata": {
    "collapsed": true
   },
   "outputs": [],
   "source": []
  }
 ],
 "metadata": {
  "anaconda-cloud": {},
  "kernelspec": {
   "display_name": "Julia 0.5.0",
   "language": "julia",
   "name": "julia-0.5"
  },
  "language_info": {
   "file_extension": ".jl",
   "mimetype": "application/julia",
   "name": "julia",
   "version": "0.5.0"
  }
 },
 "nbformat": 4,
 "nbformat_minor": 1
}
